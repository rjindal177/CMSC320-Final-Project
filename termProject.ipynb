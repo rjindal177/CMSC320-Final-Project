{
 "cells": [
  {
   "cell_type": "markdown",
   "id": "a091c942",
   "metadata": {},
   "source": [
    "# CMSC 320 Term Project"
   ]
  },
  {
   "cell_type": "markdown",
   "id": "0457da67",
   "metadata": {},
   "source": [
    "## Data Preprocessing"
   ]
  },
  {
   "cell_type": "code",
   "execution_count": 92,
   "id": "9f70ba43",
   "metadata": {
    "execution": {
     "iopub.execute_input": "2025-10-28T03:37:34.583215Z",
     "iopub.status.busy": "2025-10-28T03:37:34.582471Z",
     "iopub.status.idle": "2025-10-28T03:37:37.200614Z",
     "shell.execute_reply": "2025-10-28T03:37:37.199274Z"
    }
   },
   "outputs": [],
   "source": [
    "import pandas as pd\n",
    "import numpy as np\n",
    "import matplotlib.pyplot as plt\n",
    "from scipy import stats"
   ]
  },
  {
   "cell_type": "code",
   "execution_count": 93,
   "id": "ad8d5645",
   "metadata": {
    "execution": {
     "iopub.execute_input": "2025-10-28T03:37:37.205102Z",
     "iopub.status.busy": "2025-10-28T03:37:37.204651Z",
     "iopub.status.idle": "2025-10-28T03:37:46.054155Z",
     "shell.execute_reply": "2025-10-28T03:37:46.052696Z"
    }
   },
   "outputs": [
    {
     "data": {
      "text/html": [
       "<div>\n",
       "<style scoped>\n",
       "    .dataframe tbody tr th:only-of-type {\n",
       "        vertical-align: middle;\n",
       "    }\n",
       "\n",
       "    .dataframe tbody tr th {\n",
       "        vertical-align: top;\n",
       "    }\n",
       "\n",
       "    .dataframe thead th {\n",
       "        text-align: right;\n",
       "    }\n",
       "</style>\n",
       "<table border=\"1\" class=\"dataframe\">\n",
       "  <thead>\n",
       "    <tr style=\"text-align: right;\">\n",
       "      <th></th>\n",
       "      <th>Open</th>\n",
       "      <th>High</th>\n",
       "      <th>Low</th>\n",
       "      <th>Close</th>\n",
       "      <th>Volume</th>\n",
       "    </tr>\n",
       "    <tr>\n",
       "      <th>Timestamp</th>\n",
       "      <th></th>\n",
       "      <th></th>\n",
       "      <th></th>\n",
       "      <th></th>\n",
       "      <th></th>\n",
       "    </tr>\n",
       "  </thead>\n",
       "  <tbody>\n",
       "    <tr>\n",
       "      <th>2012-01-01 10:01:00</th>\n",
       "      <td>4.58</td>\n",
       "      <td>4.58</td>\n",
       "      <td>4.58</td>\n",
       "      <td>4.58</td>\n",
       "      <td>0.0</td>\n",
       "    </tr>\n",
       "    <tr>\n",
       "      <th>2012-01-01 10:02:00</th>\n",
       "      <td>4.58</td>\n",
       "      <td>4.58</td>\n",
       "      <td>4.58</td>\n",
       "      <td>4.58</td>\n",
       "      <td>0.0</td>\n",
       "    </tr>\n",
       "    <tr>\n",
       "      <th>2012-01-01 10:03:00</th>\n",
       "      <td>4.58</td>\n",
       "      <td>4.58</td>\n",
       "      <td>4.58</td>\n",
       "      <td>4.58</td>\n",
       "      <td>0.0</td>\n",
       "    </tr>\n",
       "    <tr>\n",
       "      <th>2012-01-01 10:04:00</th>\n",
       "      <td>4.58</td>\n",
       "      <td>4.58</td>\n",
       "      <td>4.58</td>\n",
       "      <td>4.58</td>\n",
       "      <td>0.0</td>\n",
       "    </tr>\n",
       "    <tr>\n",
       "      <th>2012-01-01 10:05:00</th>\n",
       "      <td>4.58</td>\n",
       "      <td>4.58</td>\n",
       "      <td>4.58</td>\n",
       "      <td>4.58</td>\n",
       "      <td>0.0</td>\n",
       "    </tr>\n",
       "  </tbody>\n",
       "</table>\n",
       "</div>"
      ],
      "text/plain": [
       "                     Open  High   Low  Close  Volume\n",
       "Timestamp                                           \n",
       "2012-01-01 10:01:00  4.58  4.58  4.58   4.58     0.0\n",
       "2012-01-01 10:02:00  4.58  4.58  4.58   4.58     0.0\n",
       "2012-01-01 10:03:00  4.58  4.58  4.58   4.58     0.0\n",
       "2012-01-01 10:04:00  4.58  4.58  4.58   4.58     0.0\n",
       "2012-01-01 10:05:00  4.58  4.58  4.58   4.58     0.0"
      ]
     },
     "metadata": {},
     "output_type": "display_data"
    }
   ],
   "source": [
    "df = pd.read_csv(\"btcusd_1-min_data.csv\")\n",
    "\n",
    "df[\"Timestamp\"] = pd.to_datetime(df[\"Timestamp\"], unit=\"s\")\n",
    "df = df.set_index(\"Timestamp\").sort_index()\n",
    "df = df[~df.index.duplicated(keep=\"first\")]\n",
    "\n",
    "display(df.head())"
   ]
  },
  {
   "cell_type": "markdown",
   "id": "48c05e7a",
   "metadata": {},
   "source": [
    "Here we read the csv file, then convert the Timestamp column into Pandas datetime objects, so that we can later use time based operations cleaner. Then we sort the Timestamp column chronologically so we are able to see trends clearer. Finally we drop any duplicated timestamps so that only the first occurence shows, which resolves any skew in the data."
   ]
  },
  {
   "cell_type": "code",
   "execution_count": 94,
   "id": "59112b7f",
   "metadata": {
    "execution": {
     "iopub.execute_input": "2025-10-28T03:37:46.059473Z",
     "iopub.status.busy": "2025-10-28T03:37:46.058832Z",
     "iopub.status.idle": "2025-10-28T03:37:46.145858Z",
     "shell.execute_reply": "2025-10-28T03:37:46.144664Z"
    }
   },
   "outputs": [
    {
     "data": {
      "text/plain": [
       "Open      0\n",
       "High      0\n",
       "Low       0\n",
       "Close     0\n",
       "Volume    0\n",
       "dtype: int64"
      ]
     },
     "metadata": {},
     "output_type": "display_data"
    }
   ],
   "source": [
    "display(df.isna().sum())"
   ]
  },
  {
   "cell_type": "markdown",
   "id": "cf79a1f2",
   "metadata": {},
   "source": [
    "We run to see if there are missing values in the data. There appears to be none."
   ]
  },
  {
   "cell_type": "code",
   "execution_count": 95,
   "id": "bc174c9a",
   "metadata": {
    "execution": {
     "iopub.execute_input": "2025-10-28T03:37:46.149591Z",
     "iopub.status.busy": "2025-10-28T03:37:46.149134Z",
     "iopub.status.idle": "2025-10-28T03:37:48.146216Z",
     "shell.execute_reply": "2025-10-28T03:37:48.145164Z"
    }
   },
   "outputs": [
    {
     "data": {
      "text/html": [
       "<div>\n",
       "<style scoped>\n",
       "    .dataframe tbody tr th:only-of-type {\n",
       "        vertical-align: middle;\n",
       "    }\n",
       "\n",
       "    .dataframe tbody tr th {\n",
       "        vertical-align: top;\n",
       "    }\n",
       "\n",
       "    .dataframe thead th {\n",
       "        text-align: right;\n",
       "    }\n",
       "</style>\n",
       "<table border=\"1\" class=\"dataframe\">\n",
       "  <thead>\n",
       "    <tr style=\"text-align: right;\">\n",
       "      <th></th>\n",
       "      <th>Open</th>\n",
       "      <th>High</th>\n",
       "      <th>Low</th>\n",
       "      <th>Close</th>\n",
       "      <th>Volume</th>\n",
       "    </tr>\n",
       "  </thead>\n",
       "  <tbody>\n",
       "    <tr>\n",
       "      <th>count</th>\n",
       "      <td>7.2688e+06</td>\n",
       "      <td>7.2688e+06</td>\n",
       "      <td>7.2688e+06</td>\n",
       "      <td>7.2688e+06</td>\n",
       "      <td>7.2688e+06</td>\n",
       "    </tr>\n",
       "    <tr>\n",
       "      <th>mean</th>\n",
       "      <td>2.0731e+04</td>\n",
       "      <td>2.0739e+04</td>\n",
       "      <td>2.0723e+04</td>\n",
       "      <td>2.0731e+04</td>\n",
       "      <td>5.1499e+00</td>\n",
       "    </tr>\n",
       "    <tr>\n",
       "      <th>std</th>\n",
       "      <td>2.9335e+04</td>\n",
       "      <td>2.9343e+04</td>\n",
       "      <td>2.9327e+04</td>\n",
       "      <td>2.9335e+04</td>\n",
       "      <td>2.2137e+01</td>\n",
       "    </tr>\n",
       "    <tr>\n",
       "      <th>min</th>\n",
       "      <td>3.8000e+00</td>\n",
       "      <td>3.8000e+00</td>\n",
       "      <td>3.8000e+00</td>\n",
       "      <td>3.8000e+00</td>\n",
       "      <td>0.0000e+00</td>\n",
       "    </tr>\n",
       "    <tr>\n",
       "      <th>25%</th>\n",
       "      <td>4.4033e+02</td>\n",
       "      <td>4.4055e+02</td>\n",
       "      <td>4.4008e+02</td>\n",
       "      <td>4.4033e+02</td>\n",
       "      <td>1.9045e-02</td>\n",
       "    </tr>\n",
       "    <tr>\n",
       "      <th>50%</th>\n",
       "      <td>7.1919e+03</td>\n",
       "      <td>7.1956e+03</td>\n",
       "      <td>7.1879e+03</td>\n",
       "      <td>7.1918e+03</td>\n",
       "      <td>4.4655e-01</td>\n",
       "    </tr>\n",
       "    <tr>\n",
       "      <th>75%</th>\n",
       "      <td>3.0220e+04</td>\n",
       "      <td>3.0228e+04</td>\n",
       "      <td>3.0213e+04</td>\n",
       "      <td>3.0221e+04</td>\n",
       "      <td>2.9104e+00</td>\n",
       "    </tr>\n",
       "    <tr>\n",
       "      <th>max</th>\n",
       "      <td>1.2620e+05</td>\n",
       "      <td>1.2627e+05</td>\n",
       "      <td>1.2616e+05</td>\n",
       "      <td>1.2620e+05</td>\n",
       "      <td>5.8539e+03</td>\n",
       "    </tr>\n",
       "  </tbody>\n",
       "</table>\n",
       "</div>"
      ],
      "text/plain": [
       "             Open        High         Low       Close      Volume\n",
       "count  7.2688e+06  7.2688e+06  7.2688e+06  7.2688e+06  7.2688e+06\n",
       "mean   2.0731e+04  2.0739e+04  2.0723e+04  2.0731e+04  5.1499e+00\n",
       "std    2.9335e+04  2.9343e+04  2.9327e+04  2.9335e+04  2.2137e+01\n",
       "min    3.8000e+00  3.8000e+00  3.8000e+00  3.8000e+00  0.0000e+00\n",
       "25%    4.4033e+02  4.4055e+02  4.4008e+02  4.4033e+02  1.9045e-02\n",
       "50%    7.1919e+03  7.1956e+03  7.1879e+03  7.1918e+03  4.4655e-01\n",
       "75%    3.0220e+04  3.0228e+04  3.0213e+04  3.0221e+04  2.9104e+00\n",
       "max    1.2620e+05  1.2627e+05  1.2616e+05  1.2620e+05  5.8539e+03"
      ]
     },
     "metadata": {},
     "output_type": "display_data"
    }
   ],
   "source": [
    "display(df[[\"Open\", \"High\", \"Low\", \"Close\", \"Volume\"]].describe())"
   ]
  },
  {
   "cell_type": "markdown",
   "id": "98b2140e",
   "metadata": {},
   "source": [
    "Gives overview of each column of the dataframe."
   ]
  },
  {
   "cell_type": "markdown",
   "id": "e1b67d2e",
   "metadata": {},
   "source": [
    "## Weekday vs Weekend Volume T-Test\n",
    "We test whether average trading activity differs between weekdays and weekends by comparing the log-transformed minute volumes with a Welch two-sample t-test and a simple boxplot."
   ]
  },
  {
   "cell_type": "code",
   "execution_count": 96,
   "id": "31128d41",
   "metadata": {
    "execution": {
     "iopub.execute_input": "2025-10-28T03:37:48.149501Z",
     "iopub.status.busy": "2025-10-28T03:37:48.149123Z",
     "iopub.status.idle": "2025-10-28T03:37:52.172189Z",
     "shell.execute_reply": "2025-10-28T03:37:52.171189Z"
    }
   },
   "outputs": [
    {
     "data": {
      "image/png": "[encoded data removed]",
      "text/plain": [
       "<Figure size 800x500 with 1 Axes>"
      ]
     },
     "metadata": {},
     "output_type": "display_data"
    },
    {
     "name": "stdout",
     "output_type": "stream",
     "text": [
      "Weekday mean log volume:  -1.37866728249773 \n",
      "Weekend mean log volume:  -2.0295251213328043 \n",
      "T-value:  246.0820649448937 \n",
      "P-Value:  0.0\n",
      "1.5748195751115501 times more BTC per minute on weekdays.\n"
     ]
    }
   ],
   "source": [
    "weekday_mask = df.index.dayofweek < 5\n",
    "weekend_mask = ~weekday_mask\n",
    "\n",
    "weekday_vol = np.log10(df.loc[weekday_mask, \"Volume\"] + 1e-8)\n",
    "weekend_vol = np.log10(df.loc[weekend_mask, \"Volume\"] + 1e-8)\n",
    "\n",
    "fig, ax = plt.subplots(figsize=(8, 5))\n",
    "ax.boxplot([weekday_vol, weekend_vol], tick_labels=[\"Weekday\", \"Weekend\"], widths=0.6)\n",
    "ax.set_ylabel(\"log10(Volume + 1e-8)\")\n",
    "ax.set_title(\"Minute trading volume by market period\")\n",
    "plt.show()\n",
    "\n",
    "t_stat, p_value = stats.ttest_ind(weekday_vol, weekend_vol, equal_var=False)\n",
    "weekday_mean = weekday_vol.mean()\n",
    "weekend_mean = weekend_vol.mean()\n",
    "raw_ratio = df.loc[weekday_mask, \"Volume\"].mean() / df.loc[weekend_mask, \"Volume\"].mean()\n",
    "\n",
    "print(\"Weekday mean log volume: \", weekday_mean,\n",
    "      \"\\nWeekend mean log volume: \", weekend_mean,\n",
    "      \"\\nT-value: \", t_stat,\n",
    "      \"\\nP-Value: \", p_value) \n",
    "print(raw_ratio, \"times more BTC per minute on weekdays.\")"
   ]
  },
  {
   "cell_type": "markdown",
   "id": "5db4a414",
   "metadata": {},
   "source": [
    "We compared minute bitcoin trading volumes between weekdays and weekends using a T-test on log10 because the raw minute volumes are very skewed. Weekdays show higher activity with mean log volume of -1.379 vs -2.030 which is around one and a half more raw volume per minute, with t=246 and p=0.0, so we reject the equal means. So we can conclude that the liquidity is higher on weekdays."
   ]
  }
 ],
 "metadata": {
  "kernelspec": {
   "display_name": "Python 3",
   "language": "python",
   "name": "python3"
  },
  "language_info": {
   "codemirror_mode": {
    "name": "ipython",
    "version": 3
   },
   "file_extension": ".py",
   "mimetype": "text/x-python",
   "name": "python",
   "nbconvert_exporter": "python",
   "pygments_lexer": "ipython3",
   "version": "3.13.2"
  }
 },
 "nbformat": 4,
 "nbformat_minor": 5
}
